{
  "cells": [
    {
      "cell_type": "code",
      "execution_count": null,
      "metadata": {
        "id": "FH1ZzGkIKKhm"
      },
      "outputs": [],
      "source": [
        "#19/06/23 Data Pre-processing\n",
        "import pandas as pd\n",
        "import numpy as np\n",
        "df=pd.read_csv(\"Series_Movies_dataset.csv\")\n",
        "df.head(5)"
      ]
    },
    {
      "cell_type": "code",
      "execution_count": null,
      "metadata": {
        "id": "-9BVgHJpOjtu"
      },
      "outputs": [],
      "source": [
        "df.columns"
      ]
    },
    {
      "cell_type": "code",
      "execution_count": null,
      "metadata": {
        "id": "vd4iAMNuWrPA"
      },
      "outputs": [],
      "source": [
        "df.isna().sum()"
      ]
    },
    {
      "cell_type": "code",
      "execution_count": null,
      "metadata": {
        "id": "criik5zAyHY3"
      },
      "outputs": [],
      "source": [
        "#01/07/23 Preliminary Stages of Building a Model\n",
        "plat_list=[] #contains names of all unique platforms\n",
        "for i in df['Streaming Platform']:\n",
        "  ls=i.split(',')\n",
        "  for j in ls:\n",
        "    if j not in plat_list:\n",
        "      plat_list.append(j)\n",
        "    else:\n",
        "      continue\n",
        "#print(plat_list)"
      ]
    },
    {
      "cell_type": "code",
      "execution_count": null,
      "metadata": {
        "id": "vUlxEvJI-PNi"
      },
      "outputs": [],
      "source": [
        "#03/07/23\n",
        "from sklearn.preprocessing import LabelBinarizer\n",
        "lb=LabelBinarizer()\n",
        "lb.fit(plat_list) #assign unique binary values to each streaming platform\n",
        "lb.classes_\n",
        "([plat_list])\n",
        "plat_bin=lb.transform(plat_list)\n",
        "# for i in plat_bin:\n",
        "#   print(i)\n",
        "# print(len(plat_bin))"
      ]
    },
    {
      "cell_type": "code",
      "execution_count": null,
      "metadata": {
        "id": "1bDvfL-VJxDC"
      },
      "outputs": [],
      "source": [
        "map_plat=dict() #maintaining the mapping of platform and its binary representation\n",
        "for i in plat_list:\n",
        "  for j in plat_bin:\n",
        "    map_plat.setdefault(i,j)\n",
        "# for i in map_plat:\n",
        "#   print(i,map_plat[i])\n",
        "#print(len(map_plat))"
      ]
    },
    {
      "cell_type": "code",
      "execution_count": null,
      "metadata": {
        "id": "imUDsRYeYa12"
      },
      "outputs": [],
      "source": [
        "genre_list=[] #contains names of all unique genres\n",
        "for i in df['Genre']:\n",
        "  ls=i.split(',')\n",
        "  for j in ls:\n",
        "    if j not in genre_list:\n",
        "      genre_list.append(j)\n",
        "    else:\n",
        "      continue\n",
        "#print(genre_list)"
      ]
    },
    {
      "cell_type": "code",
      "execution_count": null,
      "metadata": {
        "id": "mvw9pVM950xk"
      },
      "outputs": [],
      "source": [
        "from sklearn.preprocessing import LabelBinarizer\n",
        "lb=LabelBinarizer()\n",
        "lb.fit(genre_list) #assign unique binary values to each genre\n",
        "lb.classes_\n",
        "([genre_list])\n",
        "genre_bin=lb.transform(genre_list)\n",
        "#for i in genre_bin:\n",
        "  #print(i)\n",
        "#print(len(genre_bin))"
      ]
    },
    {
      "cell_type": "code",
      "execution_count": null,
      "metadata": {
        "id": "mXEp8WBq7FoG"
      },
      "outputs": [],
      "source": [
        "map_genre=dict() #maintaining the mapping of genre and its binary representation\n",
        "for i in genre_list:\n",
        "  for j in genre_bin:\n",
        "    map_genre.setdefault(i,j)\n",
        "#for i in map_genre:\n",
        "  #print(i,map_genre[i])\n",
        "#print(len(map_genre))"
      ]
    },
    {
      "cell_type": "code",
      "execution_count": null,
      "metadata": {
        "id": "Fgfu_KcKrVKM"
      },
      "outputs": [],
      "source": [
        "#Creating column of binary OR operated Genres\n",
        "gen_or_ls=[]\n",
        "for i in df['Genre']:\n",
        "  ls = i.split(\",\");\n",
        "  ans=0\n",
        "  for j in range (0,len(ls)):\n",
        "    ans=ans | genre_bin[j]\n",
        "  gen_or_ls.append(ans)\n",
        "df['ORed_Binary_Genres']=gen_or_ls\n",
        "lg = df['ORed_Binary_Genres'].tolist()\n",
        "cp1 = pd.DataFrame(lg,dtype=int).to_numpy()\n",
        "df['ORed_Binary_Genres'] = cp1"
      ]
    },
    {
      "cell_type": "code",
      "execution_count": null,
      "metadata": {
        "id": "v0a0Jsq5tJ3u"
      },
      "outputs": [],
      "source": [
        "#Creating column of binary OR operated Streaming Platforms\n",
        "streamplat_or_ls=[]\n",
        "for i in df['Streaming Platform']:\n",
        "  ls = i.split(\",\");\n",
        "  ans=0\n",
        "  for j in range (0,len(ls)):\n",
        "    ans= ans | plat_bin[j]\n",
        "  streamplat_or_ls.append(ans)\n",
        "df['ORed_Binary_Streaming_Platforms']=streamplat_or_ls\n",
        "bg = df['ORed_Binary_Streaming_Platforms'].tolist()\n",
        "cp2 = pd.DataFrame(bg,dtype=int).to_numpy()\n",
        "df['ORed_Binary_Streaming_Platforms'] = cp2\n",
        "print(cp2[0])\n",
        "print(df['ORed_Binary_Streaming_Platforms'][0])"
      ]
    },
    {
      "cell_type": "code",
      "source": [
        "train_df=df.iloc[:7496] #80%-20% train-test split\n",
        "test_df=df.iloc[7497:]\n",
        "train_df=df.sample(frac=0.8,random_state=200)\n",
        "print(train_df.head())\n",
        "print(test_df.head())"
      ],
      "metadata": {
        "id": "955Namq8UAX8"
      },
      "execution_count": null,
      "outputs": []
    },
    {
      "cell_type": "code",
      "execution_count": null,
      "metadata": {
        "id": "z9jFgIvOViVK"
      },
      "outputs": [],
      "source": [
        "train_df=train_df.drop(['Series Title'],axis=1)\n",
        "train_df=train_df.drop(['Genre'],axis=1)\n",
        "train_df=train_df.drop(['Description'],axis=1)\n",
        "train_df=train_df.drop(['Streaming Platform'],axis=1)"
      ]
    },
    {
      "cell_type": "code",
      "execution_count": null,
      "metadata": {
        "id": "iKE7wlArVkFg"
      },
      "outputs": [],
      "source": [
        "#07/08/23 Kmeans Model Creation\n",
        "from sklearn.cluster import KMeans\n",
        "import numpy as np\n",
        "kmeans=KMeans(n_clusters=5, random_state=0, n_init=\"auto\").fit(train_df)"
      ]
    },
    {
      "cell_type": "code",
      "source": [
        "test_df=test_df.drop(['Series Title'],axis=1)\n",
        "test_df=test_df.drop(['Genre'],axis=1)\n",
        "test_df=test_df.drop(['Description'],axis=1)\n",
        "test_df=test_df.drop(['Streaming Platform'],axis=1)\n",
        "\n",
        "predicted_values=kmeans.fit_predict(test_df)\n",
        "# for i in predicted_values:\n",
        "#   print(i)"
      ],
      "metadata": {
        "id": "zktn4eogg7YK"
      },
      "execution_count": null,
      "outputs": []
    },
    {
      "cell_type": "code",
      "source": [
        "# Calculating the quality of clustering\n",
        "from sklearn.metrics import silhouette_score, calinski_harabasz_score\n",
        "from sklearn.metrics import accuracy_score\n",
        "\n",
        "# Calculate Silhouette Score\n",
        "silhouette_avg = silhouette_score(test_df,predicted_values)\n",
        "# Calculate Calinski-Harabasz Index\n",
        "ch_score = calinski_harabasz_score(test_df,predicted_values)\n",
        "print(silhouette_avg)\n",
        "print(ch_score)"
      ],
      "metadata": {
        "id": "gzOUgDwQPBmx"
      },
      "execution_count": null,
      "outputs": []
    }
  ],
  "metadata": {
    "colab": {
      "provenance": []
    },
    "kernelspec": {
      "display_name": "Python 3",
      "name": "python3"
    },
    "language_info": {
      "name": "python"
    }
  },
  "nbformat": 4,
  "nbformat_minor": 0
}